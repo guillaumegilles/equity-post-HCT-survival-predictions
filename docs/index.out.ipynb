{
 "cells": [
  {
   "cell_type": "markdown",
   "metadata": {},
   "source": [
    "# Equity in post-HCT Survival Predictions\n",
    "\n",
    "Guillaume Gilles [![](data:image/png;base64,iVBORw0KGgoAAAANSUhEUgAAABAAAAAQCAYAAAAf8/9hAAAAGXRFWHRTb2Z0d2FyZQBBZG9iZSBJbWFnZVJlYWR5ccllPAAAA2ZpVFh0WE1MOmNvbS5hZG9iZS54bXAAAAAAADw/eHBhY2tldCBiZWdpbj0i77u/IiBpZD0iVzVNME1wQ2VoaUh6cmVTek5UY3prYzlkIj8+IDx4OnhtcG1ldGEgeG1sbnM6eD0iYWRvYmU6bnM6bWV0YS8iIHg6eG1wdGs9IkFkb2JlIFhNUCBDb3JlIDUuMC1jMDYwIDYxLjEzNDc3NywgMjAxMC8wMi8xMi0xNzozMjowMCAgICAgICAgIj4gPHJkZjpSREYgeG1sbnM6cmRmPSJodHRwOi8vd3d3LnczLm9yZy8xOTk5LzAyLzIyLXJkZi1zeW50YXgtbnMjIj4gPHJkZjpEZXNjcmlwdGlvbiByZGY6YWJvdXQ9IiIgeG1sbnM6eG1wTU09Imh0dHA6Ly9ucy5hZG9iZS5jb20veGFwLzEuMC9tbS8iIHhtbG5zOnN0UmVmPSJodHRwOi8vbnMuYWRvYmUuY29tL3hhcC8xLjAvc1R5cGUvUmVzb3VyY2VSZWYjIiB4bWxuczp4bXA9Imh0dHA6Ly9ucy5hZG9iZS5jb20veGFwLzEuMC8iIHhtcE1NOk9yaWdpbmFsRG9jdW1lbnRJRD0ieG1wLmRpZDo1N0NEMjA4MDI1MjA2ODExOTk0QzkzNTEzRjZEQTg1NyIgeG1wTU06RG9jdW1lbnRJRD0ieG1wLmRpZDozM0NDOEJGNEZGNTcxMUUxODdBOEVCODg2RjdCQ0QwOSIgeG1wTU06SW5zdGFuY2VJRD0ieG1wLmlpZDozM0NDOEJGM0ZGNTcxMUUxODdBOEVCODg2RjdCQ0QwOSIgeG1wOkNyZWF0b3JUb29sPSJBZG9iZSBQaG90b3Nob3AgQ1M1IE1hY2ludG9zaCI+IDx4bXBNTTpEZXJpdmVkRnJvbSBzdFJlZjppbnN0YW5jZUlEPSJ4bXAuaWlkOkZDN0YxMTc0MDcyMDY4MTE5NUZFRDc5MUM2MUUwNEREIiBzdFJlZjpkb2N1bWVudElEPSJ4bXAuZGlkOjU3Q0QyMDgwMjUyMDY4MTE5OTRDOTM1MTNGNkRBODU3Ii8+IDwvcmRmOkRlc2NyaXB0aW9uPiA8L3JkZjpSREY+IDwveDp4bXBtZXRhPiA8P3hwYWNrZXQgZW5kPSJyIj8+84NovQAAAR1JREFUeNpiZEADy85ZJgCpeCB2QJM6AMQLo4yOL0AWZETSqACk1gOxAQN+cAGIA4EGPQBxmJA0nwdpjjQ8xqArmczw5tMHXAaALDgP1QMxAGqzAAPxQACqh4ER6uf5MBlkm0X4EGayMfMw/Pr7Bd2gRBZogMFBrv01hisv5jLsv9nLAPIOMnjy8RDDyYctyAbFM2EJbRQw+aAWw/LzVgx7b+cwCHKqMhjJFCBLOzAR6+lXX84xnHjYyqAo5IUizkRCwIENQQckGSDGY4TVgAPEaraQr2a4/24bSuoExcJCfAEJihXkWDj3ZAKy9EJGaEo8T0QSxkjSwORsCAuDQCD+QILmD1A9kECEZgxDaEZhICIzGcIyEyOl2RkgwAAhkmC+eAm0TAAAAABJRU5ErkJggg==)](https://orcid.org/0009-0000-7940-9359)  \n",
    "September 19, 2024\n",
    "\n",
    "In this competition, you’ll develop models to improve the prediction of transplant survival rates for patients undergoing allogeneic Hematopoietic Cell Transplantation (HCT) — an important step in ensuring that every patient has a fair chance at a successful outcome, regardless of their background.\n",
    "\n",
    "## Notebook setup"
   ],
   "id": "ca26d4cf-e9bf-44a8-8fd6-12eae2d8757d"
  },
  {
   "cell_type": "code",
   "execution_count": null,
   "metadata": {},
   "outputs": [
    {
     "output_type": "stream",
     "name": "stderr",
     "text": [
      "── Attaching core tidyverse packages ──────────────────────── tidyverse 2.0.0 ──\n",
      "✔ dplyr     1.1.4     ✔ readr     2.1.5\n",
      "✔ forcats   1.0.0     ✔ stringr   1.5.1\n",
      "✔ ggplot2   3.5.1     ✔ tibble    3.2.1\n",
      "✔ lubridate 1.9.3     ✔ tidyr     1.3.1\n",
      "✔ purrr     1.0.2     \n",
      "── Conflicts ────────────────────────────────────────── tidyverse_conflicts() ──\n",
      "✖ dplyr::filter() masks stats::filter()\n",
      "✖ dplyr::lag()    masks stats::lag()\n",
      "ℹ Use the conflicted package (<http://conflicted.r-lib.org/>) to force all conflicts to become errors"
     ]
    },
    {
     "output_type": "stream",
     "name": "stderr",
     "text": [
      "── Attaching packages ────────────────────────────────────── tidymodels 1.2.0 ──\n",
      "✔ broom        1.0.6      ✔ rsample      1.2.1 \n",
      "✔ dials        1.2.1      ✔ tune         1.2.1 \n",
      "✔ infer        1.0.7      ✔ workflows    1.1.4 \n",
      "✔ modeldata    1.3.0      ✔ workflowsets 1.1.0 \n",
      "✔ parsnip      1.2.1      ✔ yardstick    1.3.1 \n",
      "✔ recipes      1.0.10     \n",
      "── Conflicts ───────────────────────────────────────── tidymodels_conflicts() ──\n",
      "✖ scales::discard() masks purrr::discard()\n",
      "✖ dplyr::filter()   masks stats::filter()\n",
      "✖ recipes::fixed()  masks stringr::fixed()\n",
      "✖ dplyr::lag()      masks stats::lag()\n",
      "✖ yardstick::spec() masks readr::spec()\n",
      "✖ recipes::step()   masks stats::step()\n",
      "• Search for functions across packages at https://www.tidymodels.org/find/"
     ]
    }
   ],
   "source": [
    "# Quarto R setup\n",
    "library(tidyverse)"
   ],
   "id": "17d165dd-d2c3-4130-a701-10576adbc981"
  },
  {
   "cell_type": "markdown",
   "metadata": {},
   "source": [
    "## Exploratory Data Analysis\n",
    "\n",
    "### Dataset Description"
   ],
   "id": "a4f89a23-5de5-4b5a-858c-67fab9c4f8df"
  },
  {
   "cell_type": "code",
   "execution_count": null,
   "metadata": {},
   "outputs": [
    {
     "output_type": "stream",
     "name": "stderr",
     "text": [
      "Rows: 28800 Columns: 60\n",
      "── Column specification ────────────────────────────────────────────────────────\n",
      "Delimiter: \",\"\n",
      "chr (35): dri_score, psych_disturb, cyto_score, diabetes, tbi_status, arrhyt...\n",
      "dbl (25): ID, hla_match_c_high, hla_high_res_8, hla_low_res_6, hla_high_res_...\n",
      "\n",
      "ℹ Use `spec()` to retrieve the full column specification for this data.\n",
      "ℹ Specify the column types or set `show_col_types = FALSE` to quiet this message."
     ]
    }
   ],
   "source": [
    "data <- read_csv(\"kaggle/input/equity-post-HCT-survival-predictions/train.csv\")"
   ],
   "id": "4732e7b6-d8c8-4af0-97ed-f75e01087c45"
  },
  {
   "cell_type": "markdown",
   "metadata": {},
   "source": [
    "The dataset consists of 59 variables related to hematopoietic stem cell transplantation (HSCT), encompassing a range of demographic and medical characteristics of both recipients and donors, such as age, sex, ethnicity, disease status, and treatment details.\n",
    "\n",
    "The primary outcome of interest is event-free survival, represented by the variable `efs`, while the time to event-free survival is captured by the variable `efs_time`. These two variables together encode the target for a censored time-to-event analysis.\n",
    "\n",
    "The data, which features equal representation across recipient racial categories including White, Asian, African-American, Native American, Pacific Islander, and More than One Race, was synthetically generated using the data generator from [synthcity](https://github.com/vanderschaarlab/synthcity), trained on a large cohort of real [CIBMTR](https://cibmtr.org/CIBMTR/About) data.\n",
    "\n",
    "We have used the SurvivalGAN method, introduced in the paper “[SurvivalGAN: Generating Time-to-Event Data for Survival Analysis](https://proceedings.mlr.press/v206/norcliffe23a.html)” which addresses the generation of synthetic survival data with special considerations for censoring. SurvivalGAN is adept at capturing the intricate relationships and interactions among variables within survival data and their influence on time-to-event outcomes. This generative model utilizes a conditional Generative Adversarial Network (GAN) framework, which is specifically tailored to address the complexities of survival analysis, including the critical task of managing censored data.\n",
    "\n",
    "By conditioning on additional information such as censoring status and actual survival times, SurvivalGAN effectively learns the underlying distribution of the data, ensuring that the generated synthetic dataset retains the essential interactions among variables that are predictive of survival outcomes.\n",
    "\n",
    "### Data Analysis\n",
    "\n",
    "1.  Transforming efs into factor"
   ],
   "id": "863b7a9a-65b9-47b4-ad45-aa8dd1252b19"
  },
  {
   "cell_type": "code",
   "execution_count": null,
   "metadata": {},
   "outputs": [],
   "source": [
    "data <- data |>\n",
    "  mutate(efs = as.factor(efs))"
   ],
   "id": "8c474414-0042-4e1d-8852-fe5a0e90f249"
  },
  {
   "cell_type": "markdown",
   "metadata": {},
   "source": [
    "1.  Drop efs_time for now because there is no in test.csv"
   ],
   "id": "f4b81c0f-e2b2-4ba0-94d6-dce1084eab65"
  },
  {
   "cell_type": "code",
   "execution_count": null,
   "metadata": {},
   "outputs": [],
   "source": [
    "data <- data |>\n",
    "  select(-efs_time)"
   ],
   "id": "3698e550-4057-4c90-a999-c31cb4189927"
  },
  {
   "cell_type": "markdown",
   "metadata": {},
   "source": [
    "-   preprocessing\n",
    "-   encoding bool + string\n",
    "-   normalization / standardization\n",
    "-   feature engineer\n",
    "\n",
    "## Modeling\n",
    "\n",
    "### Splitting Data Set\n",
    "\n",
    "### Evaluation Criteria\n",
    "\n",
    "The evaluation of prediction accuracy in the competition will involve a specialized metric known as the Stratified Concordance Index (C-index), adapted to consider different racial groups independently. This method allows us to gauge the predictive performance of models in a way that emphasizes equitability across diverse patient populations, particularly focusing on racial disparities in transplant outcomes.\n",
    "\n",
    "### Concordance index\n",
    "\n",
    "It represents the global assessment of the model discrimination power: this is the model’s ability to correctly provide a reliable ranking of the survival times based on the individual risk scores. It can be computed with the following formula:\n",
    "\n",
    "$C-index = \\frac{ \\sum_{{i}{j}} 1_{{T_{j}} < {T_{i}}} \\cdot }{\\sum_{{i}{j}}}$\n",
    "\n",
    "with:\n",
    "\n",
    "-   $n_{i}$, the risk score of a unit ${i}$\n",
    "-   $1_{{T_{j}} < {T_{i}}} = 1$ if ${T_{j}} < {T_{i}}$ else $0$\n",
    "\n",
    "The concordance index is a value between $0$ and $1$ where:\n",
    "\n",
    "-   $0.5$ is the expected result from random predictions,\n",
    "-   $1.0$ is a perfect concordance and,\n",
    "-   $0.0$ is perfect anti-concordance (multiply predictions with -1 to get 1.0)\n",
    "\n",
    "Similarly to AUC, $C-index = 1$ corresponds to the best model prediction, and $C-index = 0.5$ represents a random prediction.\n",
    "\n",
    "Stratified Concordance Index\n",
    "\n",
    "For this competition, we adjust the standard C-index to account for racial stratification, thus ensuring that each racial group’s outcomes are weighed equally in the model evaluation. The stratified c-index is calculated as the mean minus the standard deviation of the c-index scores calculated within the recipient race categories, i.e., the score will be better if the mean c-index over the different race categories is large and the standard deviation of the c-indices over the race categories is small. This value will range from 0 to 1, 1 is the theoretical perfect score, but this value will practically be lower due to censored outcomes.\n",
    "\n",
    "The submitted risk scores will be evaluated using the score function. This evaluation process involves comparing the submitted risk scores against actual observed values (i.e., survival times and event occurrences) from a test dataset. The function specifically calculates the stratified concordance index across different racial groups, ensuring that the predictions are not only accurate overall but also equitable across diverse patient demographics. The implementation of the metric is wound in this notebook. Submission File\n",
    "\n",
    "Participants must submit their predictions for the test dataset as real-valued risk scores. These scores represent the model’s assessment of each patient’s risk following transplantation. A higher risk score typically indicates a higher likelihood of the target event occurrence.\n",
    "\n",
    "The submission file must include a header and follow this format:\n",
    "\n",
    "ID,prediction 28800,0.5 28801,1.2 28802,0.8 etc.\n",
    "\n",
    "where:\n",
    "\n",
    "ID refers to the identifier for each patient in the test dataset. prediction is the corresponding risk score generated by your model.\n",
    "\n",
    "### Baseline"
   ],
   "id": "923e1de3-db9b-4c56-8df5-5e5b4b6b4516"
  },
  {
   "cell_type": "code",
   "execution_count": null,
   "metadata": {},
   "outputs": [],
   "source": [
    "split <- initial_split(data, prop = 0.8)\n",
    "train <- training(split)\n",
    "test <- testing(split)"
   ],
   "id": "8891d3f3-cf99-4516-bc70-4c3765f76ea1"
  },
  {
   "cell_type": "code",
   "execution_count": null,
   "metadata": {},
   "outputs": [],
   "source": [
    "# Define the random forest model\n",
    "rf_model <- rand_forest(trees = 100,\n",
    "                        mtry = 3,\n",
    "                        min_n = 5) |>\n",
    "  set_engine(\"ranger\") |>\n",
    "  set_mode(\"classification\")"
   ],
   "id": "e87d1b69-2a3f-4bcc-a5fc-8e933ffc1840"
  },
  {
   "cell_type": "markdown",
   "metadata": {},
   "source": [
    "#### Create a recipe"
   ],
   "id": "b4c8600b-62a5-4b2c-9909-db6db0bd74c9"
  },
  {
   "cell_type": "code",
   "execution_count": null,
   "metadata": {},
   "outputs": [],
   "source": [
    "rf_recipe <- recipe(efs ~ ., data = train) |>\n",
    "  step_impute_mean(all_numeric_predictors()) |>       # Mean Imputation\n",
    "  step_impute_mode(all_nominal_predictors()) |>       # Mode Imputation\n",
    "  step_normalize(all_numeric_predictors())            # Normalize numeric predictors if needed"
   ],
   "id": "6b47bb48-f1f3-43b2-850f-7aec92cc2ff6"
  },
  {
   "cell_type": "markdown",
   "metadata": {},
   "source": [
    "#### Create a workflow"
   ],
   "id": "6254620a-0226-4b7c-80f9-7ac67565d6de"
  },
  {
   "cell_type": "code",
   "execution_count": null,
   "metadata": {},
   "outputs": [],
   "source": [
    "rf_workflow <- workflow() |>\n",
    "  add_recipe(rf_recipe) |>\n",
    "  add_model(rf_model)"
   ],
   "id": "968d18ea-b235-40b2-9bbb-74c2db636d5c"
  },
  {
   "cell_type": "markdown",
   "metadata": {},
   "source": [
    "#### Fit the model"
   ],
   "id": "d648ee83-74e3-4093-ad9e-a69cb4162468"
  },
  {
   "cell_type": "code",
   "execution_count": null,
   "metadata": {},
   "outputs": [],
   "source": [
    "rf_fit <- rf_workflow |>\n",
    "  fit(data = train)"
   ],
   "id": "8d583970-144f-486e-9650-f4307a96652f"
  },
  {
   "cell_type": "markdown",
   "metadata": {},
   "source": [
    "#### Make predictions"
   ],
   "id": "6236ec72-7851-4f2d-95f7-25be74c39c24"
  },
  {
   "cell_type": "code",
   "execution_count": null,
   "metadata": {},
   "outputs": [],
   "source": [
    "predictions <- rf_fit |>\n",
    "  predict(new_data = test) |>\n",
    "  bind_cols(test)"
   ],
   "id": "b23cadb7-f098-4d9f-b07a-7b59b398dfb2"
  },
  {
   "cell_type": "markdown",
   "metadata": {},
   "source": [
    "## Submission\n",
    "\n",
    "need to bind valid\\$id + prediction on valid_set"
   ],
   "id": "11a11dac-034d-4f72-8ebb-fb455025bf90"
  },
  {
   "cell_type": "code",
   "execution_count": null,
   "metadata": {},
   "outputs": [
    {
     "output_type": "stream",
     "name": "stderr",
     "text": [
      "Rows: 3 Columns: 58\n",
      "── Column specification ────────────────────────────────────────────────────────\n",
      "Delimiter: \",\"\n",
      "chr (35): dri_score, psych_disturb, cyto_score, diabetes, tbi_status, arrhyt...\n",
      "dbl (23): ID, hla_match_c_high, hla_high_res_8, hla_low_res_6, hla_high_res_...\n",
      "\n",
      "ℹ Use `spec()` to retrieve the full column specification for this data.\n",
      "ℹ Specify the column types or set `show_col_types = FALSE` to quiet this message."
     ]
    }
   ],
   "source": [
    "# Preparing valid dataset for prediction\n",
    "valid <- read_csv(\"kaggle/input/equity-post-HCT-survival-predictions/test.csv\")"
   ],
   "id": "85a059dd-2cbb-4112-b8d3-d582efe6df51"
  },
  {
   "cell_type": "code",
   "execution_count": null,
   "metadata": {},
   "outputs": [],
   "source": [
    "# # Evaluate performance\n",
    "# metrics <- metrics(predictions, truth = sii, estimate = .pred_class)  # Change .pred_class to the appropriate column name\n",
    "# print(metrics)"
   ],
   "id": "fb1bc73e-b441-4abe-a050-dd14e8094275"
  },
  {
   "cell_type": "code",
   "execution_count": null,
   "metadata": {},
   "outputs": [],
   "source": [
    "# train_less_pciat |>\n",
    "#   mutate_if(is.character, as.factor) |>\n",
    "#  mutate(across(categorial_features, as.factor))\n",
    "\n",
    "\n",
    "# split <- data |>\n",
    "#   drop_na(sii) %>%\n",
    "#   initial_split()"
   ],
   "id": "44acfaa2-0d75-4abc-917f-5992397c80e0"
  },
  {
   "cell_type": "markdown",
   "metadata": {},
   "source": [
    "## References"
   ],
   "id": "42081836-ceca-4464-adf2-e2563eb85ff8"
  }
 ],
 "nbformat": 4,
 "nbformat_minor": 5,
 "metadata": {}
}
