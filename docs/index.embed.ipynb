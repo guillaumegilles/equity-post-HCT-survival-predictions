{
 "cells": [
  {
   "cell_type": "markdown",
   "metadata": {},
   "source": [
    "# Equity in post-HCT Survival Predictions\n",
    "\n",
    "Guillaume Gilles [![](data:image/png;base64,iVBORw0KGgoAAAANSUhEUgAAABAAAAAQCAYAAAAf8/9hAAAAGXRFWHRTb2Z0d2FyZQBBZG9iZSBJbWFnZVJlYWR5ccllPAAAA2ZpVFh0WE1MOmNvbS5hZG9iZS54bXAAAAAAADw/eHBhY2tldCBiZWdpbj0i77u/IiBpZD0iVzVNME1wQ2VoaUh6cmVTek5UY3prYzlkIj8+IDx4OnhtcG1ldGEgeG1sbnM6eD0iYWRvYmU6bnM6bWV0YS8iIHg6eG1wdGs9IkFkb2JlIFhNUCBDb3JlIDUuMC1jMDYwIDYxLjEzNDc3NywgMjAxMC8wMi8xMi0xNzozMjowMCAgICAgICAgIj4gPHJkZjpSREYgeG1sbnM6cmRmPSJodHRwOi8vd3d3LnczLm9yZy8xOTk5LzAyLzIyLXJkZi1zeW50YXgtbnMjIj4gPHJkZjpEZXNjcmlwdGlvbiByZGY6YWJvdXQ9IiIgeG1sbnM6eG1wTU09Imh0dHA6Ly9ucy5hZG9iZS5jb20veGFwLzEuMC9tbS8iIHhtbG5zOnN0UmVmPSJodHRwOi8vbnMuYWRvYmUuY29tL3hhcC8xLjAvc1R5cGUvUmVzb3VyY2VSZWYjIiB4bWxuczp4bXA9Imh0dHA6Ly9ucy5hZG9iZS5jb20veGFwLzEuMC8iIHhtcE1NOk9yaWdpbmFsRG9jdW1lbnRJRD0ieG1wLmRpZDo1N0NEMjA4MDI1MjA2ODExOTk0QzkzNTEzRjZEQTg1NyIgeG1wTU06RG9jdW1lbnRJRD0ieG1wLmRpZDozM0NDOEJGNEZGNTcxMUUxODdBOEVCODg2RjdCQ0QwOSIgeG1wTU06SW5zdGFuY2VJRD0ieG1wLmlpZDozM0NDOEJGM0ZGNTcxMUUxODdBOEVCODg2RjdCQ0QwOSIgeG1wOkNyZWF0b3JUb29sPSJBZG9iZSBQaG90b3Nob3AgQ1M1IE1hY2ludG9zaCI+IDx4bXBNTTpEZXJpdmVkRnJvbSBzdFJlZjppbnN0YW5jZUlEPSJ4bXAuaWlkOkZDN0YxMTc0MDcyMDY4MTE5NUZFRDc5MUM2MUUwNEREIiBzdFJlZjpkb2N1bWVudElEPSJ4bXAuZGlkOjU3Q0QyMDgwMjUyMDY4MTE5OTRDOTM1MTNGNkRBODU3Ii8+IDwvcmRmOkRlc2NyaXB0aW9uPiA8L3JkZjpSREY+IDwveDp4bXBtZXRhPiA8P3hwYWNrZXQgZW5kPSJyIj8+84NovQAAAR1JREFUeNpiZEADy85ZJgCpeCB2QJM6AMQLo4yOL0AWZETSqACk1gOxAQN+cAGIA4EGPQBxmJA0nwdpjjQ8xqArmczw5tMHXAaALDgP1QMxAGqzAAPxQACqh4ER6uf5MBlkm0X4EGayMfMw/Pr7Bd2gRBZogMFBrv01hisv5jLsv9nLAPIOMnjy8RDDyYctyAbFM2EJbRQw+aAWw/LzVgx7b+cwCHKqMhjJFCBLOzAR6+lXX84xnHjYyqAo5IUizkRCwIENQQckGSDGY4TVgAPEaraQr2a4/24bSuoExcJCfAEJihXkWDj3ZAKy9EJGaEo8T0QSxkjSwORsCAuDQCD+QILmD1A9kECEZgxDaEZhICIzGcIyEyOl2RkgwAAhkmC+eAm0TAAAAABJRU5ErkJggg==)](https://orcid.org/0009-0000-7940-9359)  \n",
    "September 19, 2024\n",
    "\n",
    "In this competition, you’ll develop models to improve the prediction of transplant survival rates for patients undergoing allogeneic Hematopoietic Cell Transplantation (HCT) — an important step in ensuring that every patient has a fair chance at a successful outcome, regardless of their background.\n",
    "\n",
    "## Notebook setup"
   ],
   "id": "5724f16a-786f-4504-85a8-efe708717901"
  },
  {
   "cell_type": "code",
   "execution_count": null,
   "metadata": {},
   "outputs": [
    {
     "output_type": "stream",
     "name": "stderr",
     "text": [
      "── Attaching core tidyverse packages ──────────────────────── tidyverse 2.0.0 ──\n",
      "✔ dplyr     1.1.4     ✔ readr     2.1.5\n",
      "✔ forcats   1.0.0     ✔ stringr   1.5.1\n",
      "✔ ggplot2   3.5.1     ✔ tibble    3.2.1\n",
      "✔ lubridate 1.9.3     ✔ tidyr     1.3.1\n",
      "✔ purrr     1.0.2     \n",
      "── Conflicts ────────────────────────────────────────── tidyverse_conflicts() ──\n",
      "✖ dplyr::filter() masks stats::filter()\n",
      "✖ dplyr::lag()    masks stats::lag()\n",
      "ℹ Use the conflicted package (<http://conflicted.r-lib.org/>) to force all conflicts to become errors"
     ]
    },
    {
     "output_type": "stream",
     "name": "stderr",
     "text": [
      "── Attaching packages ────────────────────────────────────── tidymodels 1.2.0 ──\n",
      "✔ broom        1.0.6      ✔ rsample      1.2.1 \n",
      "✔ dials        1.2.1      ✔ tune         1.2.1 \n",
      "✔ infer        1.0.7      ✔ workflows    1.1.4 \n",
      "✔ modeldata    1.3.0      ✔ workflowsets 1.1.0 \n",
      "✔ parsnip      1.2.1      ✔ yardstick    1.3.1 \n",
      "✔ recipes      1.0.10     \n",
      "── Conflicts ───────────────────────────────────────── tidymodels_conflicts() ──\n",
      "✖ scales::discard() masks purrr::discard()\n",
      "✖ dplyr::filter()   masks stats::filter()\n",
      "✖ recipes::fixed()  masks stringr::fixed()\n",
      "✖ dplyr::lag()      masks stats::lag()\n",
      "✖ yardstick::spec() masks readr::spec()\n",
      "✖ recipes::step()   masks stats::step()\n",
      "• Search for functions across packages at https://www.tidymodels.org/find/"
     ]
    }
   ],
   "source": [
    "# Quarto R setup\n",
    "library(tidyverse)"
   ],
   "id": "eae3c135-a7a3-482f-a4a0-4cb3698e7e2d"
  },
  {
   "cell_type": "markdown",
   "metadata": {},
   "source": [
    "## Exploratory Data Analysis\n",
    "\n",
    "### Dataset Description"
   ],
   "id": "9966c83d-c625-430d-9708-6b65533f6137"
  },
  {
   "cell_type": "code",
   "execution_count": null,
   "metadata": {},
   "outputs": [
    {
     "output_type": "stream",
     "name": "stderr",
     "text": [
      "Rows: 28800 Columns: 60\n",
      "── Column specification ────────────────────────────────────────────────────────\n",
      "Delimiter: \",\"\n",
      "chr (35): dri_score, psych_disturb, cyto_score, diabetes, tbi_status, arrhyt...\n",
      "dbl (25): ID, hla_match_c_high, hla_high_res_8, hla_low_res_6, hla_high_res_...\n",
      "\n",
      "ℹ Use `spec()` to retrieve the full column specification for this data.\n",
      "ℹ Specify the column types or set `show_col_types = FALSE` to quiet this message."
     ]
    }
   ],
   "source": [
    "data <- read_csv(\"kaggle/input/equity-post-HCT-survival-predictions/train.csv\")"
   ],
   "id": "d361ec6f-97dc-4f18-845c-6c110a8d3122"
  },
  {
   "cell_type": "markdown",
   "metadata": {},
   "source": [
    "The dataset consists of 59 variables related to hematopoietic stem cell transplantation (HSCT), encompassing a range of demographic and medical characteristics of both recipients and donors, such as age, sex, ethnicity, disease status, and treatment details.\n",
    "\n",
    "The primary outcome of interest is event-free survival, represented by the variable `efs`, while the time to event-free survival is captured by the variable `efs_time`. These two variables together encode the target for a censored time-to-event analysis.\n",
    "\n",
    "The data, which features equal representation across recipient racial categories including White, Asian, African-American, Native American, Pacific Islander, and More than One Race, was synthetically generated using the data generator from [synthcity](https://github.com/vanderschaarlab/synthcity), trained on a large cohort of real [CIBMTR](https://cibmtr.org/CIBMTR/About) data.\n",
    "\n",
    "We have used the SurvivalGAN method, introduced in the paper “[SurvivalGAN: Generating Time-to-Event Data for Survival Analysis](https://proceedings.mlr.press/v206/norcliffe23a.html)” which addresses the generation of synthetic survival data with special considerations for censoring. SurvivalGAN is adept at capturing the intricate relationships and interactions among variables within survival data and their influence on time-to-event outcomes. This generative model utilizes a conditional Generative Adversarial Network (GAN) framework, which is specifically tailored to address the complexities of survival analysis, including the critical task of managing censored data.\n",
    "\n",
    "By conditioning on additional information such as censoring status and actual survival times, SurvivalGAN effectively learns the underlying distribution of the data, ensuring that the generated synthetic dataset retains the essential interactions among variables that are predictive of survival outcomes.\n",
    "\n",
    "### Data Analysis\n",
    "\n",
    "1.  Transforming efs into factor"
   ],
   "id": "7bae7148-4269-4452-98ad-64a7b9ff4451"
  },
  {
   "cell_type": "code",
   "execution_count": null,
   "metadata": {},
   "outputs": [],
   "source": [
    "data <- data |>\n",
    "  mutate(efs = as.factor(efs))"
   ],
   "id": "ca729c89-e1aa-4d30-8e6c-e4dde8493deb"
  },
  {
   "cell_type": "markdown",
   "metadata": {},
   "source": [
    "1.  Drop efs_time for now because there is no in test.csv"
   ],
   "id": "7d45fc42-8358-4a5e-9617-9a9b85319d1d"
  },
  {
   "cell_type": "code",
   "execution_count": null,
   "metadata": {},
   "outputs": [],
   "source": [
    "data <- data |>\n",
    "  select(-efs_time)"
   ],
   "id": "181a3876-1cd1-4b64-9e8f-d46b30970844"
  },
  {
   "cell_type": "markdown",
   "metadata": {},
   "source": [
    "-   preprocessing\n",
    "-   encoding bool + string\n",
    "-   normalization / standardization\n",
    "-   feature engineer\n",
    "\n",
    "## Modeling\n",
    "\n",
    "### Splitting Data Set\n",
    "\n",
    "### Evaluation Criteria\n",
    "\n",
    "The evaluation of prediction accuracy in the competition will involve a specialized metric known as the Stratified Concordance Index (C-index), adapted to consider different racial groups independently. This method allows us to gauge the predictive performance of models in a way that emphasizes equitability across diverse patient populations, particularly focusing on racial disparities in transplant outcomes.\n",
    "\n",
    "### Concordance index\n",
    "\n",
    "It represents the global assessment of the model discrimination power: this is the model’s ability to correctly provide a reliable ranking of the survival times based on the individual risk scores. It can be computed with the following formula:\n",
    "\n",
    "$C-index = \\frac{ \\sum_{{i}{j}} 1_{{T_{j}} < {T_{i}}} \\cdot }{\\sum_{{i}{j}}}$\n",
    "\n",
    "with:\n",
    "\n",
    "-   $n_{i}$, the risk score of a unit ${i}$\n",
    "-   $1_{{T_{j}} < {T_{i}}} = 1$ if ${T_{j}} < {T_{i}}$ else $0$\n",
    "\n",
    "The concordance index is a value between $0$ and $1$ where:\n",
    "\n",
    "-   $0.5$ is the expected result from random predictions,\n",
    "-   $1.0$ is a perfect concordance and,\n",
    "-   $0.0$ is perfect anti-concordance (multiply predictions with -1 to get 1.0)\n",
    "\n",
    "Similarly to AUC, $C-index = 1$ corresponds to the best model prediction, and $C-index = 0.5$ represents a random prediction.\n",
    "\n",
    "Stratified Concordance Index\n",
    "\n",
    "For this competition, we adjust the standard C-index to account for racial stratification, thus ensuring that each racial group’s outcomes are weighed equally in the model evaluation. The stratified c-index is calculated as the mean minus the standard deviation of the c-index scores calculated within the recipient race categories, i.e., the score will be better if the mean c-index over the different race categories is large and the standard deviation of the c-indices over the race categories is small. This value will range from 0 to 1, 1 is the theoretical perfect score, but this value will practically be lower due to censored outcomes.\n",
    "\n",
    "The submitted risk scores will be evaluated using the score function. This evaluation process involves comparing the submitted risk scores against actual observed values (i.e., survival times and event occurrences) from a test dataset. The function specifically calculates the stratified concordance index across different racial groups, ensuring that the predictions are not only accurate overall but also equitable across diverse patient demographics. The implementation of the metric is wound in this notebook. Submission File\n",
    "\n",
    "Participants must submit their predictions for the test dataset as real-valued risk scores. These scores represent the model’s assessment of each patient’s risk following transplantation. A higher risk score typically indicates a higher likelihood of the target event occurrence.\n",
    "\n",
    "The submission file must include a header and follow this format:\n",
    "\n",
    "ID,prediction 28800,0.5 28801,1.2 28802,0.8 etc.\n",
    "\n",
    "where:\n",
    "\n",
    "ID refers to the identifier for each patient in the test dataset. prediction is the corresponding risk score generated by your model.\n",
    "\n",
    "### Baseline"
   ],
   "id": "99ddde41-2b80-454b-b4ee-75269af87121"
  },
  {
   "cell_type": "code",
   "execution_count": null,
   "metadata": {},
   "outputs": [],
   "source": [
    "split <- initial_split(data, prop = 0.8)\n",
    "train <- training(split)\n",
    "test <- testing(split)"
   ],
   "id": "b3fd448a-8056-4620-972e-d72e99072403"
  },
  {
   "cell_type": "code",
   "execution_count": null,
   "metadata": {},
   "outputs": [],
   "source": [
    "# Define the random forest model\n",
    "rf_model <- rand_forest(trees = 100,\n",
    "                        mtry = 3,\n",
    "                        min_n = 5) |>\n",
    "  set_engine(\"ranger\") |>\n",
    "  set_mode(\"classification\")"
   ],
   "id": "55bb7984-5228-4970-bf16-7568e38d3409"
  },
  {
   "cell_type": "markdown",
   "metadata": {},
   "source": [
    "#### Create a recipe"
   ],
   "id": "f44dc512-127a-4dd8-a426-e7f52ad11a19"
  },
  {
   "cell_type": "code",
   "execution_count": null,
   "metadata": {},
   "outputs": [],
   "source": [
    "rf_recipe <- recipe(efs ~ ., data = train) |>\n",
    "  step_impute_mean(all_numeric_predictors()) |>       # Mean Imputation\n",
    "  step_impute_mode(all_nominal_predictors()) |>       # Mode Imputation\n",
    "  step_normalize(all_numeric_predictors())            # Normalize numeric predictors if needed"
   ],
   "id": "8781161c-0907-44a3-9658-7f7a8ddba534"
  },
  {
   "cell_type": "markdown",
   "metadata": {},
   "source": [
    "#### Create a workflow"
   ],
   "id": "f4369168-9679-49f8-8503-34a8ec923b40"
  },
  {
   "cell_type": "code",
   "execution_count": null,
   "metadata": {},
   "outputs": [],
   "source": [
    "rf_workflow <- workflow() |>\n",
    "  add_recipe(rf_recipe) |>\n",
    "  add_model(rf_model)"
   ],
   "id": "e3f9a0a5-8bc5-4abc-bfe5-5acd1ce6e4e6"
  },
  {
   "cell_type": "markdown",
   "metadata": {},
   "source": [
    "#### Fit the model"
   ],
   "id": "c8ab3f7d-a6a7-40ca-bf01-5726e31ad848"
  },
  {
   "cell_type": "code",
   "execution_count": null,
   "metadata": {},
   "outputs": [],
   "source": [
    "rf_fit <- rf_workflow |>\n",
    "  fit(data = train)"
   ],
   "id": "02f1f55f-a07c-4f65-8800-3af0d1f34885"
  },
  {
   "cell_type": "markdown",
   "metadata": {},
   "source": [
    "#### Make predictions"
   ],
   "id": "3dd16b55-a8ce-47a2-ba7f-dfc1533ef2b0"
  },
  {
   "cell_type": "code",
   "execution_count": null,
   "metadata": {},
   "outputs": [],
   "source": [
    "predictions <- rf_fit |>\n",
    "  predict(new_data = test) |>\n",
    "  bind_cols(test)"
   ],
   "id": "f64a3ce8-be41-4e09-ab9a-32bb71e1770e"
  },
  {
   "cell_type": "markdown",
   "metadata": {},
   "source": [
    "## Submission\n",
    "\n",
    "need to bind valid\\$id + prediction on valid_set"
   ],
   "id": "6f42683f-f6d3-4b6a-b481-0e864fff5273"
  },
  {
   "cell_type": "code",
   "execution_count": null,
   "metadata": {},
   "outputs": [
    {
     "output_type": "stream",
     "name": "stderr",
     "text": [
      "Rows: 3 Columns: 58\n",
      "── Column specification ────────────────────────────────────────────────────────\n",
      "Delimiter: \",\"\n",
      "chr (35): dri_score, psych_disturb, cyto_score, diabetes, tbi_status, arrhyt...\n",
      "dbl (23): ID, hla_match_c_high, hla_high_res_8, hla_low_res_6, hla_high_res_...\n",
      "\n",
      "ℹ Use `spec()` to retrieve the full column specification for this data.\n",
      "ℹ Specify the column types or set `show_col_types = FALSE` to quiet this message."
     ]
    }
   ],
   "source": [
    "# Preparing valid dataset for prediction\n",
    "valid <- read_csv(\"kaggle/input/equity-post-HCT-survival-predictions/test.csv\")"
   ],
   "id": "1ba17fe0-5808-4f78-a21c-4e1b2f74b703"
  },
  {
   "cell_type": "code",
   "execution_count": null,
   "metadata": {},
   "outputs": [],
   "source": [
    "# # Evaluate performance\n",
    "# metrics <- metrics(predictions, truth = sii, estimate = .pred_class)  # Change .pred_class to the appropriate column name\n",
    "# print(metrics)"
   ],
   "id": "f3078d28-5182-4340-b08b-a2dc7e568d2c"
  },
  {
   "cell_type": "code",
   "execution_count": null,
   "metadata": {},
   "outputs": [],
   "source": [
    "# train_less_pciat |>\n",
    "#   mutate_if(is.character, as.factor) |>\n",
    "#  mutate(across(categorial_features, as.factor))\n",
    "\n",
    "\n",
    "# split <- data |>\n",
    "#   drop_na(sii) %>%\n",
    "#   initial_split()"
   ],
   "id": "72a3eb1f-d5af-4390-9f1c-2473f0b18fe8"
  },
  {
   "cell_type": "markdown",
   "metadata": {},
   "source": [
    "## References"
   ],
   "id": "b087f259-6f69-40f0-b384-3af05f43a862"
  }
 ],
 "nbformat": 4,
 "nbformat_minor": 5,
 "metadata": {}
}
