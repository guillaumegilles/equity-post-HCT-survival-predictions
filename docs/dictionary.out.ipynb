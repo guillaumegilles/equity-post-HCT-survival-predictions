{
 "cells": [
  {
   "cell_type": "markdown",
   "metadata": {},
   "source": [
    "# Data Dictionary"
   ],
   "id": "9a7479d4-ffd5-4b45-92b4-75a18d22847c"
  },
  {
   "cell_type": "code",
   "execution_count": null,
   "metadata": {},
   "outputs": [
    {
     "output_type": "stream",
     "name": "stderr",
     "text": [
      "Rows: 59 Columns: 4\n",
      "── Column specification ────────────────────────────────────────────────────────\n",
      "Delimiter: \",\"\n",
      "chr (4): variable, description, type, values\n",
      "\n",
      "ℹ Use `spec()` to retrieve the full column specification for this data.\n",
      "ℹ Specify the column types or set `show_col_types = FALSE` to quiet this message."
     ]
    },
    {
     "output_type": "display_data",
     "metadata": {},
     "data": {
      "text/markdown": [
       "  ----------------------------------------------------------------------------------------------\n",
       "  variable    description   type          values\n",
       "  ----------- ------------- ------------- ------------------------------------------------------\n",
       "  dri_score   Refined       Categorical   \\['Intermediate' 'High' 'N/A - non-malignant\n",
       "              disease risk                indication' 'N/A - pediatric'\n",
       "              index                       \n",
       "\n",
       "  ----------------------------------------------------------------------------------------------\n",
       "\n",
       "  : Data Dictionary\n"
      ]
     }
    }
   ],
   "source": [
    "library(knitr)\n",
    "library(readr)\n",
    "\n",
    "read_csv(\"kaggle/input/equity-post-HCT-survival-predictions/data_dictionary.csv\") |>\n",
    "    kable(caption = \"Data Dictionary\")\n"
   ],
   "id": "221ff36f-bfa8-48a4-a21a-c72faec74523"
  }
 ],
 "nbformat": 4,
 "nbformat_minor": 5,
 "metadata": {}
}
